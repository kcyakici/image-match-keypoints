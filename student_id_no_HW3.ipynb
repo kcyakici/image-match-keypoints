{
 "cells": [
  {
   "cell_type": "markdown",
   "id": "2c6b08ac",
   "metadata": {},
   "source": [
    "## Homework #3 - Due Date: 21 Nov, 23:59##"
   ]
  },
  {
   "cell_type": "markdown",
   "id": "bc09e5f3",
   "metadata": {},
   "source": [
    "1. Upload a pair of personal images in a hosting place that can be accessed using an URL (like Google Drive. Don't forget to share file). If there is a little translation between images, that is good (like given in the lecture Jupyter Notebook file \"07_08_interest_point_detection_and_matching_HW3.ipynb\" Step 3 part: left.png, right.png). Try to avoid from rotation. It is better if your images are smaller than 1000x1000 resolution.\n",
    "2. Convert your images into grayscale (you can use any library for this).\n",
    "3. Use built-in SIFT keypoint and descriptor extraction (sift.detectAndCompute) to get the descriptors from both left and right images.\n",
    "4. Now, you have two lists of descriptors (of length 128). Do NOT use built-in matchers (like BFMatcher of FLANNBasedMAtcher), but implement your own matching routine which can be based on simple cosine similarity between two vectors. (Write a Python function for this task.)\n",
    "Your code should extract at least two best matches (k=2), because afterwards you are going to eliminate matches according to the feature distance ratio (we want the distance to the first match is less than a coefficient times distance to the second best).\n",
    "5. You can further eliminate some matches if they translate much less or much more than the average translation between the images. Write your own code for this elimination.\n",
    "6. Show final matches on the original image pair. (Display side-by-side)"
   ]
  },
  {
   "cell_type": "code",
   "execution_count": null,
   "id": "54b267e7",
   "metadata": {},
   "outputs": [],
   "source": []
  },
  {
   "cell_type": "code",
   "execution_count": null,
   "id": "52f9087b",
   "metadata": {},
   "outputs": [],
   "source": []
  },
  {
   "cell_type": "code",
   "execution_count": null,
   "id": "ebad5170",
   "metadata": {},
   "outputs": [],
   "source": []
  },
  {
   "cell_type": "code",
   "execution_count": null,
   "id": "e9f5a040",
   "metadata": {},
   "outputs": [],
   "source": []
  },
  {
   "cell_type": "code",
   "execution_count": null,
   "id": "902d01d4",
   "metadata": {},
   "outputs": [],
   "source": []
  },
  {
   "cell_type": "code",
   "execution_count": null,
   "id": "9605a490",
   "metadata": {},
   "outputs": [],
   "source": []
  }
 ],
 "metadata": {
  "kernelspec": {
   "display_name": "Python 3 (ipykernel)",
   "language": "python",
   "name": "python3"
  },
  "language_info": {
   "codemirror_mode": {
    "name": "ipython",
    "version": 3
   },
   "file_extension": ".py",
   "mimetype": "text/x-python",
   "name": "python",
   "nbconvert_exporter": "python",
   "pygments_lexer": "ipython3",
   "version": "3.8.10"
  }
 },
 "nbformat": 4,
 "nbformat_minor": 5
}
